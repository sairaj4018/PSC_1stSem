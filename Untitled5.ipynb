{
 "cells": [
  {
   "cell_type": "code",
   "execution_count": null,
   "id": "efba6285-1b79-42c8-a2e9-324a566ac60f",
   "metadata": {},
   "outputs": [],
   "source": [
    "name = \"Sairaj tarange \""
   ]
  },
  {
   "cell_type": "code",
   "execution_count": null,
   "id": "94f205bb-b259-4a9e-a6c4-1b03f4f303bb",
   "metadata": {},
   "outputs": [],
   "source": [
    "name"
   ]
  }
 ],
 "metadata": {
  "kernelspec": {
   "display_name": "Python 3 (ipykernel)",
   "language": "python",
   "name": "python3"
  },
  "language_info": {
   "codemirror_mode": {
    "name": "ipython",
    "version": 3
   },
   "file_extension": ".py",
   "mimetype": "text/x-python",
   "name": "python",
   "nbconvert_exporter": "python",
   "pygments_lexer": "ipython3",
   "version": "3.12.4"
  }
 },
 "nbformat": 4,
 "nbformat_minor": 5
}
